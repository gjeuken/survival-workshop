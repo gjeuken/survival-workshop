{
 "cells": [
  {
   "cell_type": "markdown",
   "metadata": {},
   "source": [
    "# Step 1 - Importing necessary packages\n",
    "\n",
    "If installation was done correctly, there should be no errors here."
   ]
  },
  {
   "cell_type": "code",
   "execution_count": null,
   "metadata": {
    "collapsed": false
   },
   "outputs": [],
   "source": [
    "%matplotlib inline\n",
    "\n",
    "# Numerical library\n",
    "import numpy as np\n",
    "\n",
    "# Data manipulation\n",
    "import pandas as pd\n",
    "pd.set_option(\"display.max_rows\", 50)\n",
    "pd.set_option(\"display.max_columns\", None)\n",
    "from patsy import dmatrix\n",
    "\n",
    "# Ploting\n",
    "import matplotlib\n",
    "import matplotlib.pyplot as plt\n",
    "matplotlib.rcParams['figure.figsize'] = [15, 10]\n",
    "\n",
    "# Survival analysis\n",
    "import lifelines"
   ]
  },
  {
   "cell_type": "markdown",
   "metadata": {},
   "source": [
    "# Step 2 - Load and manipulate the data\n",
    "The data is avaliable at http://www.cbioportal.org/study?id=brca_tcga_pub\n",
    "\n",
    "Now lets load the clinical data"
   ]
  },
  {
   "cell_type": "code",
   "execution_count": null,
   "metadata": {
    "collapsed": false,
    "scrolled": true
   },
   "outputs": [],
   "source": [
    "clinical = pd.read_csv('data/brca_tcga_pub_clinical_data.tsv', sep='\\t')\n",
    "clinical"
   ]
  },
  {
   "cell_type": "markdown",
   "metadata": {},
   "source": [
    "Lets play around with this data.\n",
    "\n",
    "How does the survival curve looks like in general? We can use the survival package __lifelines__ to figure this out"
   ]
  },
  {
   "cell_type": "code",
   "execution_count": null,
   "metadata": {
    "collapsed": false,
    "scrolled": false
   },
   "outputs": [],
   "source": [
    "kmf = lifelines.KaplanMeierFitter()\n",
    "\n",
    "clinical = clinical.dropna()\n",
    "\n",
    "Time = clinical['Overall Survival (Months)']\n",
    "Event = clinical['Overall Survival Status'] == 'DECEASED'\n",
    "\n",
    "kmf.fit(Time, Event)\n",
    "kmf.plot()"
   ]
  },
  {
   "cell_type": "markdown",
   "metadata": {},
   "source": [
    "Now we can start to play around with clinical variables that might influence in the survival curve"
   ]
  },
  {
   "cell_type": "code",
   "execution_count": null,
   "metadata": {
    "collapsed": false
   },
   "outputs": [],
   "source": [
    "# Define positive groups here\n",
    "groups = clinical['Metastasis-Coded'] == 'Positive'\n",
    "\n",
    "\n",
    "kmf.fit(Time[~groups], Event[~groups], label='False')\n",
    "ax = kmf.plot()\n",
    "kmf.fit(Time[groups], Event[groups], label='True')\n",
    "kmf.plot(ax=ax)"
   ]
  },
  {
   "cell_type": "markdown",
   "metadata": {},
   "source": [
    "It's time to look at the gene expression data!\n",
    "\n",
    "First we load the expression data for the same samples. This may take some time."
   ]
  },
  {
   "cell_type": "code",
   "execution_count": null,
   "metadata": {
    "collapsed": true
   },
   "outputs": [],
   "source": [
    "expression_raw  = pd.read_csv('data/data_expression_median.txt', sep='\\t')\n",
    "expression = expression_raw.set_index('Hugo_Symbol').iloc[:,1:].T\n",
    "expression"
   ]
  },
  {
   "cell_type": "markdown",
   "metadata": {},
   "source": [
    "And then we merge the clinical and expression data in one, and display the result"
   ]
  },
  {
   "cell_type": "code",
   "execution_count": null,
   "metadata": {
    "collapsed": false
   },
   "outputs": [],
   "source": [
    "data = clinical.merge(expression, how='inner', left_on='Sample ID', right_index=True)\n",
    "data"
   ]
  },
  {
   "cell_type": "code",
   "execution_count": null,
   "metadata": {
    "collapsed": false
   },
   "outputs": [],
   "source": [
    "formula = \"Q('Diagnosis Age') -1\"\n",
    "\n",
    "X = dmatrix(formula, data)\n",
    "X"
   ]
  }
 ],
 "metadata": {
  "kernelspec": {
   "display_name": "Python 3",
   "language": "python",
   "name": "python3"
  },
  "language_info": {
   "codemirror_mode": {
    "name": "ipython",
    "version": 3
   },
   "file_extension": ".py",
   "mimetype": "text/x-python",
   "name": "python",
   "nbconvert_exporter": "python",
   "pygments_lexer": "ipython3",
   "version": "3.6.3"
  }
 },
 "nbformat": 4,
 "nbformat_minor": 2
}
