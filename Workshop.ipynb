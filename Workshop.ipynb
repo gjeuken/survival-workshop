{
 "cells": [
  {
   "cell_type": "markdown",
   "metadata": {},
   "source": [
    "# Part 1 - Importing necessary packages\n",
    "\n",
    "If installation was done correctly, there should be no errors here."
   ]
  },
  {
   "cell_type": "code",
   "execution_count": null,
   "metadata": {
    "collapsed": false
   },
   "outputs": [],
   "source": [
    "%matplotlib inline\n",
    "\n",
    "# Numerical library\n",
    "import numpy as np\n",
    "\n",
    "# Data manipulation\n",
    "import pandas as pd\n",
    "from patsy import dmatrix\n",
    "\n",
    "# Ploting\n",
    "import matplotlib\n",
    "import matplotlib.pyplot as plt\n",
    "\n",
    "# Survival analysis\n",
    "import lifelines"
   ]
  },
  {
   "cell_type": "markdown",
   "metadata": {},
   "source": [
    "# Part 2 - A look at the clinical data\n",
    "The data is originally avaliable at http://www.cbioportal.org/study?id=brca_tcga_pub, but it can also be found together with this notebook at https://github.com/gjeuken/survival-workshop.\n",
    "\n",
    "We will use here clinical data on the patients as well as gene expression data. Firstly, lets load the clinical data and see what it looks like. Make a note of all the variables (columns) avaliable in the data."
   ]
  },
  {
   "cell_type": "code",
   "execution_count": null,
   "metadata": {
    "collapsed": false,
    "scrolled": false
   },
   "outputs": [],
   "source": [
    "clinical = pd.read_csv('data/brca_tcga_pub_clinical_data.tsv', sep='\\t')\n",
    "\n",
    "with pd.option_context('display.max_columns', None):\n",
    "    display(clinical)"
   ]
  },
  {
   "cell_type": "markdown",
   "metadata": {},
   "source": [
    "To make the later survival analysis easier, we create two new columns, one for the survival in days, and one for the event (death) beign present."
   ]
  },
  {
   "cell_type": "code",
   "execution_count": null,
   "metadata": {
    "collapsed": false
   },
   "outputs": [],
   "source": [
    "clinical['Time'] = clinical['Overall Survival (Months)']*30\n",
    "clinical['Event'] = (clinical['Overall Survival Status'] == 'DECEASED')*1"
   ]
  },
  {
   "cell_type": "markdown",
   "metadata": {},
   "source": [
    "Lets plot how the survival data looks like"
   ]
  },
  {
   "cell_type": "code",
   "execution_count": null,
   "metadata": {
    "collapsed": false,
    "scrolled": true
   },
   "outputs": [],
   "source": [
    "matplotlib.rcParams['figure.figsize'] = [15, 50]\n",
    "\n",
    "data_sorted = clinical[['Time','Event']].sort_values(by = 'Time').dropna().reset_index(drop=True)\n",
    "status_slice = data_sorted['Event'] == 1\n",
    "\n",
    "plt.barh(data_sorted.loc[~status_slice].index, data_sorted.loc[~status_slice,'Time'], height = 1, color = 'b')\n",
    "plt.barh(data_sorted.loc[status_slice].index, data_sorted.loc[status_slice,'Time'], height = 1, color = 'r')\n",
    "plt.legend(['Alive', 'Dead'])\n",
    "plt.ylabel('Patients')\n",
    "plt.xlabel('Days alive')"
   ]
  },
  {
   "cell_type": "markdown",
   "metadata": {},
   "source": [
    "---\n",
    "### Exercises\n",
    "1.1 Describe the plot and what inferences you are able to make from it\n",
    "\n",
    "---\n",
    "# Part 3 - Survival analysis using the clinical data\n",
    "\n",
    "\n",
    "\n",
    "Ok, now that we've seen the data, lets play around with it.\n",
    "\n",
    "How does the survival curve looks like in general? We can use the survival package __lifelines__ to figure this out, and generate a *Kaplan Meier plot*. \n",
    "\n",
    "Note that in the plot the shaded area represents a 95% confidence interval."
   ]
  },
  {
   "cell_type": "code",
   "execution_count": null,
   "metadata": {
    "collapsed": false,
    "scrolled": false
   },
   "outputs": [],
   "source": [
    "kmf = lifelines.KaplanMeierFitter()\n",
    "\n",
    "clinical = clinical.dropna()\n",
    "\n",
    "kmf.fit(clinical['Time'], clinical['Event'])\n",
    "\n",
    "matplotlib.rcParams['figure.figsize'] = [15, 10]\n",
    "kmf.plot()\n",
    "plt.xlabel('Days alive')\n",
    "plt.ylabel('Fraction alive')"
   ]
  },
  {
   "cell_type": "markdown",
   "metadata": {},
   "source": [
    "---\n",
    "### Exercises\n",
    "\n",
    "2.1 Compare the Kaplan Meier plot with the first one, what additional insights are avaliable on this latter plot?\n",
    "\n",
    "2.2 Why is there a confidence interval? Aren't we just displaying the data?\n",
    "\n",
    "---\n",
    "\n",
    "Now we can start to play around with clinical variables that might influence in the survival curve.\n",
    "\n",
    "You should play around with the groupings and see if you can find some usefull insight"
   ]
  },
  {
   "cell_type": "code",
   "execution_count": null,
   "metadata": {
    "collapsed": false
   },
   "outputs": [],
   "source": [
    "# Define groups here\n",
    "group_1 = clinical.loc[clinical['Metastasis-Coded'] == 'Positive']\n",
    "group_2 = clinical.loc[clinical['Metastasis-Coded'] == 'Negative']\n",
    "\n",
    "kmf.fit(group_1['Time'], group_1['Event'], label='Positive')\n",
    "ax = kmf.plot(ci_show=False)\n",
    "\n",
    "kmf.fit(group_2['Time'], group_2['Event'], label='Negative')\n",
    "kmf.plot(ax=ax, ci_show=False)\n",
    "\n",
    "plt.title('Metastasis')"
   ]
  },
  {
   "cell_type": "markdown",
   "metadata": {},
   "source": [
    "---\n",
    "### Exercises\n",
    "3.1 Make at least 3 plots using different separation criteria, and lable them accordingly.\n",
    "\n",
    "3.2 Make a plot that includes the survival curve for 3 different age groups.\n",
    "\n",
    "3.3 (Advanced) The [**logrank_test** function](http://lifelines.readthedocs.io/en/latest/Examples.html?compare-using-a-hypothesis-test#compare-using-a-hypothesis-test) of the **lifelines** package performs a statistical test on the two groups to see if their event (death) generation process is the same. Use this function to obtain a significance statistic for the separations above.\n",
    "\n",
    "---\n",
    "\n",
    "# Part 4 - Cox Proportional Hazards model\n",
    "\n",
    "The next step is to use the Cox Proportional Hazards (CPH) in the data. \n",
    "\n",
    "First, let's check the main assumption of the model, the proportionality of hazards, by ploting the hazard functions on a log-log scale and seeing wether they \"look\" parallel or not."
   ]
  },
  {
   "cell_type": "code",
   "execution_count": null,
   "metadata": {
    "collapsed": false
   },
   "outputs": [],
   "source": [
    "# Define groups here\n",
    "group_1 = clinical.loc[clinical['Metastasis-Coded'] == 'Positive']\n",
    "group_2 = clinical.loc[clinical['Metastasis-Coded'] == 'Negative']\n",
    "\n",
    "kmf.fit(group_1['Time'], group_1['Event'], label='Positive')\n",
    "ax = kmf.plot_loglogs()\n",
    "\n",
    "kmf.fit(group_2['Time'], group_2['Event'], label='Negative')\n",
    "kmf.plot_loglogs(ax=ax)"
   ]
  },
  {
   "cell_type": "markdown",
   "metadata": {},
   "source": [
    "---\n",
    "### Exercises\n",
    "\n",
    "4.1 In your oppinion, does the proportional hazards assumption hold for the Metastasis case? What about other variables you used on the previous exercise? Use the plots to support your claims.\n",
    "\n",
    "---\n",
    "\n",
    "Now that we checked the proportional hazards assumption, we can perform the CPH regression on the categorical data where this assumption holds.\n",
    "\n",
    "Note that here we will deal with the [patsy package](https://patsy.readthedocs.io/en/latest/) to format our categorical data in a way that is suited for the regression. If you are not familiar with this type of representation, please take a moment to familiriarize yourself in the [relevant help page](https://patsy.readthedocs.io/en/latest/categorical-coding.html).\n",
    "\n",
    "\n"
   ]
  },
  {
   "cell_type": "code",
   "execution_count": null,
   "metadata": {
    "collapsed": false
   },
   "outputs": [],
   "source": [
    "cph = lifelines.CoxPHFitter()\n",
    "\n",
    "formula = 'Time + Event + C(Q(\"Metastasis\"), levels = l) + Q(\"Diagnosis Age\")'\n",
    "\n",
    "l = ['M0', 'M1']\n",
    "\n",
    "\n",
    "cox_input = dmatrix(formula, data = clinical, return_type = 'dataframe')\n",
    "cox_input = cox_input.drop(['Intercept'], axis = 1)\n",
    "\n",
    "cph.fit(cox_input, duration_col='Time', event_col='Event')\n",
    "\n",
    "cph.plot()\n",
    "cph.summary"
   ]
  },
  {
   "cell_type": "markdown",
   "metadata": {},
   "source": [
    "---\n",
    "### Exercises\n",
    "5.1 Perform the CPH regression using a few variables where the proportional hazard assumption hold.\n",
    "\n",
    "5.2 Try adding more than one variable in the same regression. What happens then? Explain the results.\n",
    "\n",
    "5.3 If there are variables where the proportional hazard assumption does not hold, but hold predictive power, you might still use it to [stratify your data](http://lifelines.readthedocs.io/en/latest/Survival%20Regression.html#stratification). How do the results change then?\n",
    "\n",
    "5.4 Can you find a way to plot the survival curves predicted by the regression for each level of a categorical variable? (Remember the CPH assumpions)\n",
    "\n",
    "---\n",
    "\n",
    "# Part 5 - Incorporating gene expression data\n",
    "\n",
    "It's time to look at the gene expression data!\n",
    "\n",
    "First we load the expression data for the same samples. This may take some time, be patient.\n",
    "\n",
    "We then take a look on how the data looks like. Note that the gene expression has been median normalized, so we get negative gene expression here."
   ]
  },
  {
   "cell_type": "code",
   "execution_count": null,
   "metadata": {
    "collapsed": false,
    "scrolled": true
   },
   "outputs": [],
   "source": [
    "expression_raw  = pd.read_csv('data/data_expression_median.txt', sep='\\t')\n",
    "expression = expression_raw.set_index('Hugo_Symbol').iloc[:,1:].T\n",
    "expression"
   ]
  },
  {
   "cell_type": "markdown",
   "metadata": {},
   "source": [
    "Now we merge the clinical and expression data in one big datastructure, and display the result."
   ]
  },
  {
   "cell_type": "code",
   "execution_count": null,
   "metadata": {
    "collapsed": false,
    "scrolled": true
   },
   "outputs": [],
   "source": [
    "data = clinical.merge(expression, how='inner', left_on='Sample ID', right_index=True)\n",
    "data"
   ]
  },
  {
   "cell_type": "markdown",
   "metadata": {},
   "source": [
    "Now we can incorporate the gene expression data into our Cox regression"
   ]
  },
  {
   "cell_type": "code",
   "execution_count": null,
   "metadata": {
    "collapsed": false
   },
   "outputs": [],
   "source": [
    "formula = \"Q('Diagnosis Age') -1\"\n",
    "\n",
    "X = dmatrix(formula, data)\n",
    "X"
   ]
  }
 ],
 "metadata": {
  "kernelspec": {
   "display_name": "Python 3",
   "language": "python",
   "name": "python3"
  },
  "language_info": {
   "codemirror_mode": {
    "name": "ipython",
    "version": 3
   },
   "file_extension": ".py",
   "mimetype": "text/x-python",
   "name": "python",
   "nbconvert_exporter": "python",
   "pygments_lexer": "ipython3",
   "version": "3.6.3"
  }
 },
 "nbformat": 4,
 "nbformat_minor": 2
}
