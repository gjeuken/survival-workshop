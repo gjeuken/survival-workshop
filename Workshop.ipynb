{
 "cells": [
  {
   "cell_type": "markdown",
   "metadata": {},
   "source": [
    "# Part 1 - Importing necessary packages\n",
    "\n",
    "If installation was done correctly, there should be no errors here."
   ]
  },
  {
   "cell_type": "code",
   "execution_count": null,
   "metadata": {
    "collapsed": false
   },
   "outputs": [],
   "source": [
    "%matplotlib inline\n",
    "\n",
    "# Numerical library\n",
    "import numpy as np\n",
    "\n",
    "# Data manipulation\n",
    "import pandas as pd\n",
    "from patsy import dmatrix\n",
    "\n",
    "# Ploting\n",
    "import matplotlib\n",
    "import matplotlib.pyplot as plt\n",
    "\n",
    "# Survival analysis\n",
    "import lifelines"
   ]
  },
  {
   "cell_type": "markdown",
   "metadata": {},
   "source": [
    "# Part 2 - A look at the clinical data\n",
    "The data is avaliable at http://www.cbioportal.org/study?id=brca_tcga_pub\n",
    "\n",
    "Now lets load the clinical data"
   ]
  },
  {
   "cell_type": "code",
   "execution_count": null,
   "metadata": {
    "collapsed": false,
    "scrolled": true
   },
   "outputs": [],
   "source": [
    "clinical = pd.read_csv('data/brca_tcga_pub_clinical_data.tsv', sep='\\t')\n",
    "\n",
    "with pd.option_context('display.max_columns', None):\n",
    "    display(clinical)"
   ]
  },
  {
   "cell_type": "markdown",
   "metadata": {},
   "source": [
    "Lets plot how the survival data looks like"
   ]
  },
  {
   "cell_type": "code",
   "execution_count": null,
   "metadata": {
    "collapsed": false,
    "scrolled": true
   },
   "outputs": [],
   "source": [
    "matplotlib.rcParams['figure.figsize'] = [15, 50]\n",
    "\n",
    "data_sorted = clinical[['Overall Survival (Months)','Overall Survival Status']].sort_values(by = 'Overall Survival (Months)').dropna().reset_index(drop=True)\n",
    "status_slice = data_sorted['Overall Survival Status'] == 'DECEASED'\n",
    "\n",
    "plt.barh(data_sorted.loc[~status_slice].index, data_sorted.loc[~status_slice,'Overall Survival (Months)'], height = 1, color = 'b')\n",
    "plt.barh(data_sorted.loc[status_slice].index, data_sorted.loc[status_slice,'Overall Survival (Months)'], height = 1, color = 'r')\n",
    "plt.legend(['Alive', 'Dead'])\n",
    "plt.ylabel('Patients')\n",
    "plt.xlabel('Months alive')"
   ]
  },
  {
   "cell_type": "markdown",
   "metadata": {},
   "source": [
    "---\n",
    "### Exercises\n",
    "1.1 Describe the plot and what inferences you are able to make from it\n",
    "\n",
    "---\n",
    "\n",
    "Ok, now that we've seen the data, lets play around with it.\n",
    "\n",
    "How does the survival curve looks like in general? We can use the survival package __lifelines__ to figure this out, and generate a *Kaplan Meier plot*"
   ]
  },
  {
   "cell_type": "code",
   "execution_count": null,
   "metadata": {
    "collapsed": false,
    "scrolled": false
   },
   "outputs": [],
   "source": [
    "kmf = lifelines.KaplanMeierFitter()\n",
    "\n",
    "clinical = clinical.dropna()\n",
    "\n",
    "Time = clinical['Overall Survival (Months)']\n",
    "Event = clinical['Overall Survival Status'] == 'DECEASED'\n",
    "\n",
    "kmf.fit(Time, Event)\n",
    "\n",
    "matplotlib.rcParams['figure.figsize'] = [15, 10]\n",
    "kmf.plot()"
   ]
  },
  {
   "cell_type": "markdown",
   "metadata": {},
   "source": [
    "---\n",
    "### Exercises\n",
    "\n",
    "2.1 Compare the Kaplan Meier plot with the first one, what additional insights are avaliable on this latter plot?\n",
    "\n",
    "---\n",
    "\n",
    "Now we can start to play around with clinical variables that might influence in the survival curve.\n",
    "\n",
    "You should play around with the groupings and see if you can find some usefull insight"
   ]
  },
  {
   "cell_type": "code",
   "execution_count": null,
   "metadata": {
    "collapsed": false
   },
   "outputs": [],
   "source": [
    "# Define positive groups here\n",
    "groups = clinical['Metastasis-Coded'] == 'Positive'\n",
    "\n",
    "kmf.fit(Time[~groups], Event[~groups], label='False')\n",
    "ax = kmf.plot()\n",
    "kmf.fit(Time[groups], Event[groups], label='True')\n",
    "kmf.plot(ax=ax)"
   ]
  },
  {
   "cell_type": "markdown",
   "metadata": {},
   "source": [
    "---\n",
    "### Exercises\n",
    "3.1 Make at least 3 plots using different separation criteria, and lable them accordingly, save them on the report.\n",
    "\n",
    "3.2 Make a plot that includes the survival curve for 3 different age groups.\n",
    "\n",
    "3.3 (Advanced) The **logrank_test** function of the **lifelines** package performs a statistical test on the two groups to see if their \"death generation process\" is the same. Use this function to obtain a significance statistic for the separations above.\n",
    "\n",
    "---\n",
    "\n",
    "# Part 3 - Incorporating gene expression data\n",
    "\n",
    "It's time to look at the gene expression data!\n",
    "\n",
    "First we load the expression data for the same samples. This may take some time."
   ]
  },
  {
   "cell_type": "code",
   "execution_count": null,
   "metadata": {
    "collapsed": false,
    "scrolled": true
   },
   "outputs": [],
   "source": [
    "expression_raw  = pd.read_csv('data/data_expression_median.txt', sep='\\t')\n",
    "expression = expression_raw.set_index('Hugo_Symbol').iloc[:,1:].T"
   ]
  },
  {
   "cell_type": "markdown",
   "metadata": {},
   "source": [
    "And then we merge the clinical and expression data in one, and display the result"
   ]
  },
  {
   "cell_type": "code",
   "execution_count": null,
   "metadata": {
    "collapsed": false
   },
   "outputs": [],
   "source": [
    "data = clinical.merge(expression, how='inner', left_on='Sample ID', right_index=True)\n",
    "data"
   ]
  },
  {
   "cell_type": "markdown",
   "metadata": {},
   "source": [
    "How can we incorporate the expression data in the survival analysis? Cox regression"
   ]
  },
  {
   "cell_type": "code",
   "execution_count": null,
   "metadata": {
    "collapsed": false
   },
   "outputs": [],
   "source": [
    "formula = \"Q('Diagnosis Age') -1\"\n",
    "\n",
    "X = dmatrix(formula, data)\n",
    "X"
   ]
  }
 ],
 "metadata": {
  "kernelspec": {
   "display_name": "Python 3",
   "language": "python",
   "name": "python3"
  },
  "language_info": {
   "codemirror_mode": {
    "name": "ipython",
    "version": 3
   },
   "file_extension": ".py",
   "mimetype": "text/x-python",
   "name": "python",
   "nbconvert_exporter": "python",
   "pygments_lexer": "ipython3",
   "version": "3.6.3"
  }
 },
 "nbformat": 4,
 "nbformat_minor": 2
}
