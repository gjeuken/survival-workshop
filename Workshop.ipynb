{
 "cells": [
  {
   "cell_type": "markdown",
   "metadata": {},
   "source": [
    "# Part 1 - Importing necessary packages\n",
    "\n",
    "If installation was done correctly, there should be no errors here."
   ]
  },
  {
   "cell_type": "code",
   "execution_count": null,
   "metadata": {
    "collapsed": false
   },
   "outputs": [],
   "source": [
    "%matplotlib inline\n",
    "\n",
    "# Numerical library\n",
    "import numpy as np\n",
    "\n",
    "# Data manipulation\n",
    "import pandas as pd\n",
    "from patsy import dmatrix\n",
    "\n",
    "# Ploting\n",
    "import matplotlib\n",
    "import matplotlib.pyplot as plt\n",
    "\n",
    "# Survival analysis\n",
    "import lifelines"
   ]
  },
  {
   "cell_type": "markdown",
   "metadata": {},
   "source": [
    "# Part 2 - A look at the clinical data\n",
    "The data is originally avaliable at http://www.cbioportal.org/study?id=brca_tcga_pub, but it can also be found together with this notebook at https://github.com/gjeuken/survival-workshop.\n",
    "\n",
    "We will use here clinical data on the patients as well as gene expression data. Firstly, lets load the clinical data and see what it looks like. Make a note of all the variables (columns) avaliable in the data."
   ]
  },
  {
   "cell_type": "code",
   "execution_count": null,
   "metadata": {
    "collapsed": false,
    "scrolled": false
   },
   "outputs": [],
   "source": [
    "clinical = pd.read_csv('data/brca_tcga_pub_clinical_data.tsv', sep='\\t')\n",
    "\n",
    "with pd.option_context('display.max_columns', None):\n",
    "    display(clinical)"
   ]
  },
  {
   "cell_type": "markdown",
   "metadata": {},
   "source": [
    "To make the later survival analysis easier, we create two new columns, one for the survival in days, and one for the event (death) beign present."
   ]
  },
  {
   "cell_type": "code",
   "execution_count": null,
   "metadata": {
    "collapsed": false
   },
   "outputs": [],
   "source": [
    "clinical['Time'] = clinical['Overall Survival (Months)']*30\n",
    "clinical['Event'] = clinical['Overall Survival Status'] == 'DECEASED'\n"
   ]
  },
  {
   "cell_type": "markdown",
   "metadata": {},
   "source": [
    "Lets plot how the survival data looks like"
   ]
  },
  {
   "cell_type": "code",
   "execution_count": null,
   "metadata": {
    "collapsed": false,
    "scrolled": true
   },
   "outputs": [],
   "source": [
    "matplotlib.rcParams['figure.figsize'] = [15, 50]\n",
    "\n",
    "data_sorted = clinical[['Time','Event']].sort_values(by = 'Time').dropna().reset_index(drop=True)\n",
    "status_slice = data_sorted['Event']\n",
    "\n",
    "plt.barh(data_sorted.loc[~status_slice].index, data_sorted.loc[~status_slice,'Time'], height = 1, color = 'b')\n",
    "plt.barh(data_sorted.loc[status_slice].index, data_sorted.loc[status_slice,'Time'], height = 1, color = 'r')\n",
    "plt.legend(['Alive', 'Dead'])\n",
    "plt.ylabel('Patients')\n",
    "plt.xlabel('Days alive')"
   ]
  },
  {
   "cell_type": "markdown",
   "metadata": {},
   "source": [
    "---\n",
    "### Exercises\n",
    "1.1 Describe the plot and what inferences you are able to make from it\n",
    "\n",
    "---\n",
    "# Part 3 - Survival analysis using the clinical data\n",
    "\n",
    "\n",
    "\n",
    "Ok, now that we've seen the data, lets play around with it.\n",
    "\n",
    "How does the survival curve looks like in general? We can use the survival package __lifelines__ to figure this out, and generate a *Kaplan Meier plot*"
   ]
  },
  {
   "cell_type": "code",
   "execution_count": null,
   "metadata": {
    "collapsed": false,
    "scrolled": false
   },
   "outputs": [],
   "source": [
    "kmf = lifelines.KaplanMeierFitter()\n",
    "\n",
    "clinical = clinical.dropna()\n",
    "\n",
    "kmf.fit(clinical['Time'], clinical['Event'])\n",
    "\n",
    "matplotlib.rcParams['figure.figsize'] = [15, 10]\n",
    "kmf.plot()"
   ]
  },
  {
   "cell_type": "markdown",
   "metadata": {},
   "source": [
    "---\n",
    "### Exercises\n",
    "\n",
    "2.1 Compare the Kaplan Meier plot with the first one, what additional insights are avaliable on this latter plot?\n",
    "\n",
    "---\n",
    "\n",
    "Now we can start to play around with clinical variables that might influence in the survival curve.\n",
    "\n",
    "You should play around with the groupings and see if you can find some usefull insight"
   ]
  },
  {
   "cell_type": "code",
   "execution_count": null,
   "metadata": {
    "collapsed": false
   },
   "outputs": [],
   "source": [
    "# Define positive groups here\n",
    "group_1 = clinical.loc[clinical['Metastasis-Coded'] == 'Positive']\n",
    "group_2 = clinical.loc[clinical['Metastasis-Coded'] == 'Negative']\n",
    "\n",
    "kmf.fit(group_1['Time'], group_1['Event'], label='Positive')\n",
    "ax = kmf.plot()\n",
    "kmf.fit(group_2['Time'], group_2['Event'], label='Negative')\n",
    "kmf.plot(ax=ax)\n",
    "plt.title('Metastasis')"
   ]
  },
  {
   "cell_type": "markdown",
   "metadata": {},
   "source": [
    "---\n",
    "### Exercises\n",
    "3.1 Make at least 3 plots using different separation criteria, and lable them accordingly, save them on the report.\n",
    "\n",
    "3.2 Make a plot that includes the survival curve for 3 different age groups.\n",
    "\n",
    "3.3 (Advanced) The **logrank_test** function of the **lifelines** package performs a statistical test on the two groups to see if their \"death generation process\" is the same. Use this function to obtain a significance statistic for the separations above.\n",
    "\n",
    "---\n",
    "\n",
    "# Part 4 - Cox Proportional Hazards model\n",
    "\n",
    "The next step is to use the Cox Proportional Hazards (CPH) in the data. "
   ]
  },
  {
   "cell_type": "markdown",
   "metadata": {},
   "source": [
    "# Part 5 - Incorporating gene expression data\n",
    "\n",
    "It's time to look at the gene expression data!\n",
    "\n",
    "First we load the expression data for the same samples. This may take some time, be patient.\n",
    "\n",
    "We then take a look on how the data looks like. Note that the gene expression has been median normalized, so we get negative gene expression here."
   ]
  },
  {
   "cell_type": "code",
   "execution_count": null,
   "metadata": {
    "collapsed": false,
    "scrolled": true
   },
   "outputs": [],
   "source": [
    "expression_raw  = pd.read_csv('data/data_expression_median.txt', sep='\\t')\n",
    "expression = expression_raw.set_index('Hugo_Symbol').iloc[:,1:].T\n",
    "expression"
   ]
  },
  {
   "cell_type": "markdown",
   "metadata": {},
   "source": [
    "Now we merge the clinical and expression data in one big datastructure, and display the result."
   ]
  },
  {
   "cell_type": "code",
   "execution_count": null,
   "metadata": {
    "collapsed": false,
    "scrolled": true
   },
   "outputs": [],
   "source": [
    "data = clinical.merge(expression, how='inner', left_on='Sample ID', right_index=True)\n",
    "data"
   ]
  },
  {
   "cell_type": "markdown",
   "metadata": {},
   "source": [
    "Now we can incorporate the gene expression data into our Cox regression"
   ]
  },
  {
   "cell_type": "code",
   "execution_count": null,
   "metadata": {
    "collapsed": false
   },
   "outputs": [],
   "source": [
    "formula = \"Q('Diagnosis Age') -1\"\n",
    "\n",
    "X = dmatrix(formula, data)\n",
    "X"
   ]
  }
 ],
 "metadata": {
  "kernelspec": {
   "display_name": "Python 3",
   "language": "python",
   "name": "python3"
  },
  "language_info": {
   "codemirror_mode": {
    "name": "ipython",
    "version": 3
   },
   "file_extension": ".py",
   "mimetype": "text/x-python",
   "name": "python",
   "nbconvert_exporter": "python",
   "pygments_lexer": "ipython3",
   "version": "3.6.3"
  }
 },
 "nbformat": 4,
 "nbformat_minor": 2
}
